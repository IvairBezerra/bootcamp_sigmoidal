{
 "cells": [
  {
   "cell_type": "markdown",
   "metadata": {
    "colab_type": "text",
    "id": "view-in-github"
   },
   "source": [
    "<a href=\"https://colab.research.google.com/github/ibzoo/ds_pratica/blob/sigmoidal/DSNP_3_0_Lista_de_Exerc%C3%ADcios.ipynb\" target=\"_parent\"><img src=\"https://colab.research.google.com/assets/colab-badge.svg\" alt=\"Open In Colab\"/></a>"
   ]
  },
  {
   "cell_type": "markdown",
   "metadata": {
    "id": "XRSYHKXEQGOL"
   },
   "source": [
    "<img alt=\"Colaboratory logo\" width=\"15%\" src=\"https://raw.githubusercontent.com/carlosfab/escola-data-science/master/img/novo_logo_bg_claro.png\">\n",
    "\n",
    "#### **Data Science na Prática 3.0**\n",
    "*by [sigmoidal.ai](https://sigmoidal.ai)*\n",
    "\n",
    "---"
   ]
  },
  {
   "cell_type": "markdown",
   "metadata": {
    "id": "vvplGyW2N3rX"
   },
   "source": [
    "# Lista de Exercícios\n",
    "\n",
    "A lista de exercícios tem por objetivo colocar a mão na massa e relembrar os conceitos que foram passados nas aulas anteriores.\n",
    "\n",
    "<center><img src=\"https://images.unsplash.com/photo-1542903660-eedba2cda473?ixid=MnwxMjA3fDB8MHxwaG90by1wYWdlfHx8fGVufDB8fHx8&ixlib=rb-1.2.1&auto=format&fit=crop&w=1050&q=80\" height=\"400px\"></center>\n",
    "\n",
    "Optei por não necessariamente seguir a sequencia das aulas, colocando os exercícios "
   ]
  },
  {
   "cell_type": "markdown",
   "metadata": {
    "id": "9GQoXiddIpr9"
   },
   "source": [
    "## Exercício 1\n",
    "\n",
    "* Importar o pacote Pandas\n",
    "* importar os dados de ocorrências da aviação civil neste link\n",
    "* Ver qual o tamanho (linhas x colunas) do *DataFrame*\n",
    "* Verificar as 5 primeiras "
   ]
  },
  {
   "cell_type": "markdown",
   "metadata": {
    "id": "hdRXuNktKw9p"
   },
   "source": [
    "**Importe o Pandas e importe os dados de ocorrências da aviação civil que se encontram em `csv` [neste link](https://raw.githubusercontent.com/carlosfab/dsnp2/master/datasets/ocorrencias_aviacao.csv).**"
   ]
  },
  {
   "cell_type": "markdown",
   "metadata": {
    "id": "8TpD5o8MLMaV"
   },
   "source": [
    "### Lets go IVAIR....."
   ]
  },
  {
   "cell_type": "code",
   "execution_count": null,
   "metadata": {
    "cellView": "form",
    "id": "IXrHqpl9LoW2"
   },
   "outputs": [],
   "source": [
    "#@title\n",
    "# importar pandas\n",
    "import pandas as ivair\n",
    "\n",
    "# importar dados\n",
    "df = pd.read_csv(\"https://raw.githubusercontent.com/carlosfab/dsnp2/master/datasets/ocorrencias_aviacao.csv\")"
   ]
  },
  {
   "cell_type": "markdown",
   "metadata": {
    "id": "Tf8ScLP9LRjq"
   },
   "source": [
    "**Veja qual o tamanho (linhas e colunas) do conjunto de dados importado.**"
   ]
  },
  {
   "cell_type": "code",
   "execution_count": null,
   "metadata": {
    "id": "vGsqOw52LnKZ"
   },
   "outputs": [],
   "source": []
  },
  {
   "cell_type": "code",
   "execution_count": null,
   "metadata": {
    "cellView": "form",
    "id": "NHsUQKI7L6te"
   },
   "outputs": [],
   "source": [
    "#@title\n",
    "df.shape"
   ]
  },
  {
   "cell_type": "markdown",
   "metadata": {
    "id": "OvvxJlZXL-BH"
   },
   "source": [
    "**Identifique o tipo de cada coluna (inteiro, float, object).**"
   ]
  },
  {
   "cell_type": "code",
   "execution_count": null,
   "metadata": {
    "id": "MjAmdNplMOMJ"
   },
   "outputs": [],
   "source": []
  },
  {
   "cell_type": "code",
   "execution_count": null,
   "metadata": {
    "cellView": "form",
    "id": "FWBMMmJ0MPnj"
   },
   "outputs": [],
   "source": [
    "#@title\n",
    "df.dtypes"
   ]
  },
  {
   "cell_type": "markdown",
   "metadata": {
    "id": "ew5bo-eZMTCZ"
   },
   "source": [
    "**Veja as 3 primeiras entradas do conjunto de dados.**"
   ]
  },
  {
   "cell_type": "code",
   "execution_count": null,
   "metadata": {
    "id": "e1xx_cXFMaM2"
   },
   "outputs": [],
   "source": []
  },
  {
   "cell_type": "code",
   "execution_count": null,
   "metadata": {
    "cellView": "form",
    "id": "yPAP4h5wMa24"
   },
   "outputs": [],
   "source": [
    "#@title\n",
    "df.head(3)"
   ]
  },
  {
   "cell_type": "markdown",
   "metadata": {
    "id": "p_2rj-KqMbtA"
   },
   "source": [
    "**Veja quantos valores únicos existem para a coluna `ocorrencia_classificacao`**"
   ]
  },
  {
   "cell_type": "code",
   "execution_count": null,
   "metadata": {
    "id": "DVtxiIREMnnV"
   },
   "outputs": [],
   "source": []
  },
  {
   "cell_type": "code",
   "execution_count": null,
   "metadata": {
    "cellView": "form",
    "id": "Om6rX4OLMoAS"
   },
   "outputs": [],
   "source": [
    "#@title\n",
    "df.ocorrencia_classificacao.unique()"
   ]
  },
  {
   "cell_type": "markdown",
   "metadata": {
    "id": "ZoUq8qxPMqPj"
   },
   "source": [
    "**Descubra qual Estado possui o maior número de ocorrências com aeronaves civis.**"
   ]
  },
  {
   "cell_type": "code",
   "execution_count": null,
   "metadata": {
    "id": "Fdin50sWM29y"
   },
   "outputs": [],
   "source": []
  },
  {
   "cell_type": "code",
   "execution_count": null,
   "metadata": {
    "cellView": "form",
    "id": "p1zFI2MnM_I7"
   },
   "outputs": [],
   "source": [
    "#@title\n",
    "# a resposta é SP, com 1.207 ocorrências\n",
    "df.ocorrencia_uf.value_counts()"
   ]
  },
  {
   "cell_type": "markdown",
   "metadata": {
    "id": "jaE4lKoMNDNG"
   },
   "source": [
    "**Quantos por cento das ocorrências são do tipo `FALHA DO MOTOR EM VOO`?**"
   ]
  },
  {
   "cell_type": "code",
   "execution_count": null,
   "metadata": {
    "id": "MZNDxepbNqFr"
   },
   "outputs": [],
   "source": []
  },
  {
   "cell_type": "code",
   "execution_count": null,
   "metadata": {
    "cellView": "form",
    "id": "RM8bxW-MNqd8"
   },
   "outputs": [],
   "source": [
    "#@title\n",
    "df.loc[df.ocorrencia_tipo == \"FALHA DO MOTOR EM VOO\"].shape[0] / df.shape[0]"
   ]
  },
  {
   "cell_type": "markdown",
   "metadata": {
    "id": "BZCNVc1NOVeb"
   },
   "source": [
    "## Exercício 2\n",
    "\n",
    "Você irá trabalhar agora com os dados da ação BBAS3, do Banco do Brasil na BOVESPA.\n",
    "\n",
    "Na variável `df_bbas3`, foi importado [este arquivo `csv`](https://raw.githubusercontent.com/carlosfab/dsnp2/master/datasets/BBAS3.SA.csv), onde o *index* do *DataFrame* representa os valores da ação para determinado dia. Responda as perguntas abaixo."
   ]
  },
  {
   "cell_type": "code",
   "execution_count": null,
   "metadata": {
    "id": "4XZI_FjDPFsR"
   },
   "outputs": [],
   "source": [
    "# importar pandas\n",
    "import pandas as pd\n",
    "\n",
    "# importar o csv com dados da BBAS3\n",
    "df_bbas3 = pd.read_csv(\"https://raw.githubusercontent.com/carlosfab/dsnp2/master/datasets/BBAS3.SA.csv\",\n",
    "                       index_col=\"Date\")"
   ]
  },
  {
   "cell_type": "markdown",
   "metadata": {
    "id": "j5gGguY3P67Q"
   },
   "source": [
    "**Veja as 5 primeiras entradas da variável `df_bbas3`.**"
   ]
  },
  {
   "cell_type": "code",
   "execution_count": null,
   "metadata": {
    "id": "MlGjWTeXQEB3"
   },
   "outputs": [],
   "source": []
  },
  {
   "cell_type": "code",
   "execution_count": null,
   "metadata": {
    "cellView": "form",
    "id": "vRCeUP_lQGai"
   },
   "outputs": [],
   "source": [
    "#@title\n",
    "df_bbas3.head()"
   ]
  },
  {
   "cell_type": "markdown",
   "metadata": {
    "id": "O3tTLDfTQTGZ"
   },
   "source": [
    "**Quais são os valores da ação para o dia 04 de outubro de 2019?**"
   ]
  },
  {
   "cell_type": "code",
   "execution_count": null,
   "metadata": {
    "id": "kPSOenAuQj81"
   },
   "outputs": [],
   "source": []
  },
  {
   "cell_type": "code",
   "execution_count": null,
   "metadata": {
    "cellView": "form",
    "id": "70QKSq2yQmCm"
   },
   "outputs": [],
   "source": [
    "#@title\n",
    "df_bbas3.loc[\"2019-10-04\"]"
   ]
  },
  {
   "cell_type": "markdown",
   "metadata": {
    "id": "PRZtV761Qr0-"
   },
   "source": [
    "**Qual a média do Volume financeiro movimentado em todo o período?**"
   ]
  },
  {
   "cell_type": "code",
   "execution_count": null,
   "metadata": {
    "id": "n-vZleQPEGey"
   },
   "outputs": [],
   "source": []
  },
  {
   "cell_type": "code",
   "execution_count": null,
   "metadata": {
    "cellView": "form",
    "id": "UUhGYf2YEPEo"
   },
   "outputs": [],
   "source": [
    "#@title\n",
    "df_bbas3.Volume.mean()"
   ]
  },
  {
   "cell_type": "markdown",
   "metadata": {
    "id": "_pO0tCV1EdD0"
   },
   "source": [
    "## Exercício 3\n",
    "\n",
    "Você irá trabalhar agora com os dados do projeto +BIKE, usado em aulas passadas.\n",
    "\n",
    "Na variável df_bike, foi importado [este arquivo csv](http://dl.dropboxusercontent.com/s/yyfeoxqw61o3iel/df_rides.csv).\n",
    "\n"
   ]
  },
  {
   "cell_type": "code",
   "execution_count": null,
   "metadata": {
    "id": "YFvJfTuVE0da"
   },
   "outputs": [],
   "source": [
    "# importar pandas\n",
    "import pandas as pd\n",
    "\n",
    "# importar o csv com dados da BBAS3\n",
    "df_bike = pd.read_csv(\"http://dl.dropboxusercontent.com/s/yyfeoxqw61o3iel/df_rides.csv\")\n",
    "\n",
    "# ver as primeiras entradas\n",
    "df_bike.head()"
   ]
  },
  {
   "cell_type": "markdown",
   "metadata": {
    "id": "sj3lwZctE7KP"
   },
   "source": [
    "**Qual a porcentagem de valores ausentes para a coluna `user_gender`?**\n"
   ]
  },
  {
   "cell_type": "code",
   "execution_count": null,
   "metadata": {
    "id": "g8GJ7kgLFEbr"
   },
   "outputs": [],
   "source": []
  },
  {
   "cell_type": "code",
   "execution_count": null,
   "metadata": {
    "cellView": "form",
    "id": "zqVDxelCFTAd"
   },
   "outputs": [],
   "source": [
    "#@title\n",
    "df_bike.user_gender.isnull().sum() / df_bike.shape[0]"
   ]
  },
  {
   "cell_type": "markdown",
   "metadata": {
    "id": "oDVOu-XpFZYI"
   },
   "source": [
    "**Preencha a coluna `user_gender` com o valor mais frequente.**"
   ]
  },
  {
   "cell_type": "code",
   "execution_count": null,
   "metadata": {
    "id": "7f9WWlD6FZnJ"
   },
   "outputs": [],
   "source": []
  },
  {
   "cell_type": "code",
   "execution_count": null,
   "metadata": {
    "cellView": "form",
    "id": "4c5iYhx3Fyqa"
   },
   "outputs": [],
   "source": [
    "#@title\n",
    "# ver o valor mais frequente\n",
    "print(df_bike.user_gender.value_counts())\n",
    "\n",
    "# preencher os valores ausentes de user_gender com 'M'\n",
    "df_bike.user_gender.fillna('M', inplace=True)"
   ]
  },
  {
   "cell_type": "markdown",
   "metadata": {
    "id": "ckDXwzIzF7XT"
   },
   "source": [
    "**Plote u boxplot para a coluna `ride_duration`.**"
   ]
  },
  {
   "cell_type": "code",
   "execution_count": null,
   "metadata": {
    "id": "xIluDO2wGGE6"
   },
   "outputs": [],
   "source": []
  },
  {
   "cell_type": "code",
   "execution_count": null,
   "metadata": {
    "cellView": "form",
    "id": "kErG6xfpGGqT"
   },
   "outputs": [],
   "source": [
    "#@title\n",
    "df_bike.ride_duration.plot(kind=\"box\")"
   ]
  }
 ],
 "metadata": {
  "colab": {
   "collapsed_sections": [],
   "include_colab_link": true,
   "name": "DSNP 3.0 - Lista de Exercícios.ipynb",
   "provenance": []
  },
  "kernelspec": {
   "display_name": "Python 3",
   "language": "python",
   "name": "python3"
  },
  "language_info": {
   "codemirror_mode": {
    "name": "ipython",
    "version": 3
   },
   "file_extension": ".py",
   "mimetype": "text/x-python",
   "name": "python",
   "nbconvert_exporter": "python",
   "pygments_lexer": "ipython3",
   "version": "3.7.9"
  }
 },
 "nbformat": 4,
 "nbformat_minor": 1
}
